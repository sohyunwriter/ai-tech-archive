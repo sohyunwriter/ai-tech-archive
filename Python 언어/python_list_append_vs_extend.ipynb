{
  "nbformat": 4,
  "nbformat_minor": 0,
  "metadata": {
    "colab": {
      "name": "python_list append vs extend.ipynb",
      "provenance": [],
      "collapsed_sections": [],
      "authorship_tag": "ABX9TyNjd64rPW89ArN7btWxks4U",
      "include_colab_link": true
    },
    "kernelspec": {
      "name": "python3",
      "display_name": "Python 3"
    }
  },
  "cells": [
    {
      "cell_type": "markdown",
      "metadata": {
        "id": "view-in-github",
        "colab_type": "text"
      },
      "source": [
        "<a href=\"https://colab.research.google.com/github/sohyunwriter/ai-tech-archive/blob/master/python_list_append_vs_extend.ipynb\" target=\"_parent\"><img src=\"https://colab.research.google.com/assets/colab-badge.svg\" alt=\"Open In Colab\"/></a>"
      ]
    },
    {
      "cell_type": "markdown",
      "metadata": {
        "id": "GCrRzjd3LePX"
      },
      "source": [
        "## python list append() / extend() 차이    \r\n",
        "- 둘다 python list에 새로운 원소를 추가하는 방법     \r\n",
        "- list.append(x) : 리스트 끝에 x 1개를 '그대로' 넣는다     \r\n",
        "- list.extend(iterable) : 리스트 끝에 '가장 바깥쪽 iterable'의 모든 항목을 넣는다     \r\n",
        "\r\n"
      ]
    },
    {
      "cell_type": "code",
      "metadata": {
        "colab": {
          "base_uri": "https://localhost:8080/"
        },
        "id": "TzllWZvxLYey",
        "outputId": "252a2a5c-390a-47c9-968b-89854ad9f4e7"
      },
      "source": [
        "x = ['x1', 'x2', 'x3']\r\n",
        "y = ['y1', 'y2']\r\n",
        "x.append(y)\r\n",
        "print(\"x: \", x)"
      ],
      "execution_count": 1,
      "outputs": [
        {
          "output_type": "stream",
          "text": [
            "x:  ['x1', 'x2', 'x3', ['y1', 'y2']]\n"
          ],
          "name": "stdout"
        }
      ]
    },
    {
      "cell_type": "code",
      "metadata": {
        "colab": {
          "base_uri": "https://localhost:8080/"
        },
        "id": "dfnbfVt7Lae8",
        "outputId": "135f327a-2819-483f-f664-16324815cf67"
      },
      "source": [
        "x = ['x1', 'x2', 'x3']\r\n",
        "y = ['y1', 'y2']\r\n",
        "x.extend(y)\r\n",
        "print(\"x: \", x)"
      ],
      "execution_count": 2,
      "outputs": [
        {
          "output_type": "stream",
          "text": [
            "x:  ['x1', 'x2', 'x3', 'y1', 'y2']\n"
          ],
          "name": "stdout"
        }
      ]
    },
    {
      "cell_type": "code",
      "metadata": {
        "colab": {
          "base_uri": "https://localhost:8080/"
        },
        "id": "d5TvYZAaLahS",
        "outputId": "d1da3446-8c7b-49e8-a62d-78c9b5d1e384"
      },
      "source": [
        "x = ['x1', 'x2', 'x3']\r\n",
        "y = [['y1', 'y2']]\r\n",
        "x.append(y)\r\n",
        "print('x:', x)"
      ],
      "execution_count": 3,
      "outputs": [
        {
          "output_type": "stream",
          "text": [
            "x: ['x1', 'x2', 'x3', [['y1', 'y2']]]\n"
          ],
          "name": "stdout"
        }
      ]
    },
    {
      "cell_type": "code",
      "metadata": {
        "colab": {
          "base_uri": "https://localhost:8080/"
        },
        "id": "37E_YL26Laji",
        "outputId": "8eeace61-fd2a-4dcf-b0e9-b04759166656"
      },
      "source": [
        "x = ['x1', 'x2', 'x3']\r\n",
        "y = [['y1', 'y2']] \r\n",
        "x.extend(y)  # 가장 바깥쪽 [] 기준으로 모든 항목 넣기\r\n",
        "print('x:', x)"
      ],
      "execution_count": 4,
      "outputs": [
        {
          "output_type": "stream",
          "text": [
            "x: ['x1', 'x2', 'x3', ['y1', 'y2']]\n"
          ],
          "name": "stdout"
        }
      ]
    },
    {
      "cell_type": "code",
      "metadata": {
        "colab": {
          "base_uri": "https://localhost:8080/"
        },
        "id": "Ifzgxi0zLals",
        "outputId": "89e696d9-4f8c-49c7-a04a-fe2a947d7677"
      },
      "source": [
        "x = ['x1', 'x2', 'x3']\r\n",
        "y = 'y1'\r\n",
        "x.append(y)\r\n",
        "print('x:', x)"
      ],
      "execution_count": 5,
      "outputs": [
        {
          "output_type": "stream",
          "text": [
            "x: ['x1', 'x2', 'x3', 'y1']\n"
          ],
          "name": "stdout"
        }
      ]
    },
    {
      "cell_type": "code",
      "metadata": {
        "colab": {
          "base_uri": "https://localhost:8080/"
        },
        "id": "9PpwCf96LdrE",
        "outputId": "a8e19460-d3d5-498a-ef72-53f8a1d23ee9"
      },
      "source": [
        "x = ['x1', 'x2', 'x3']\r\n",
        "y = 'y1'\r\n",
        "x.extend(y)  # 가장 바깥쪽 '' 기준으로 모든 항목 넣기\r\n",
        "print('x:', x)"
      ],
      "execution_count": 6,
      "outputs": [
        {
          "output_type": "stream",
          "text": [
            "x: ['x1', 'x2', 'x3', 'y', '1']\n"
          ],
          "name": "stdout"
        }
      ]
    }
  ]
}
